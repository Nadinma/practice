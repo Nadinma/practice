{
 "cells": [
  {
   "cell_type": "code",
   "execution_count": 46,
   "metadata": {},
   "outputs": [],
   "source": [
    "import pandas as pd\n",
    "import numpy as np\n"
   ]
  },
  {
   "cell_type": "code",
   "execution_count": 5,
   "metadata": {},
   "outputs": [],
   "source": [
    "def numpy1(number):\n",
    "    for i, idx in np.ndenumerate(number):\n",
    "        return (idx,i)\n",
    "        '''\n",
    "    Return a numpy array that is enumerated from 0-the number.\n",
    "    '''"
   ]
  },
  {
   "cell_type": "code",
   "execution_count": 6,
   "metadata": {},
   "outputs": [
    {
     "name": "stdout",
     "output_type": "stream",
     "text": [
      "1 (0, 0)\n",
      "2 (0, 1)\n",
      "3 (1, 0)\n",
      "4 (1, 1)\n",
      "None\n"
     ]
    }
   ],
   "source": [
    "a = np.array([[1, 2], [3, 4]])\n",
    "print(numpy1(a))"
   ]
  },
  {
   "cell_type": "code",
   "execution_count": 141,
   "metadata": {},
   "outputs": [
    {
     "name": "stdout",
     "output_type": "stream",
     "text": [
      "[2 2 2]\n"
     ]
    }
   ],
   "source": [
    "arr = np.array([1, 2, 5, 8, 2, 8, 1, 2])\n",
    "number = 2\n",
    "def numpy2(arr, number):\n",
    "    lst = []\n",
    "    for i in arr:\n",
    "        if i == number:\n",
    "            lst.append(number)\n",
    "    return np.array(lst)\n",
    "    '''\n",
    "    Return arr where each element in arr is equal to number\n",
    "\n",
    "    eg. arr = np.array([1, 2, 5, 8, 2, 8, 1, 2]), number = 2\n",
    "    returns: np.array([2, 2, 2])\n",
    "    '''\n",
    "print(numpy2(arr, number))  "
   ]
  },
  {
   "cell_type": "code",
   "execution_count": 95,
   "metadata": {},
   "outputs": [
    {
     "name": "stdout",
     "output_type": "stream",
     "text": [
      "[5 8 8 9]\n"
     ]
    }
   ],
   "source": [
    "arr = np.array([1, 2, 5, 8, 2, 8, 9, 2])\n",
    "def numpy3(arr, number):\n",
    "    new_arr = []\n",
    "    for i in arr:\n",
    "        if i >= 3:\n",
    "            new_arr.append(i)\n",
    "    return np.array(new_arr)\n",
    "    \n",
    "        \n",
    "    '''\n",
    "    Return arr where each element in arr is greater than or equal to number\n",
    "\n",
    "    eg. arr = np.array([1, 2, 5, 8, 2, 8, 9, 2]), number = 3\n",
    "    returns: np.array([5, 8, 8, 9])\n",
    "    '''\n",
    "print(numpy3(np.array([1, 2, 5, 8, 2, 8, 9, 2]), number = 3))"
   ]
  },
  {
   "cell_type": "code",
   "execution_count": 36,
   "metadata": {},
   "outputs": [
    {
     "ename": "ValueError",
     "evalue": "all the input arrays must have same number of dimensions",
     "output_type": "error",
     "traceback": [
      "\u001b[0;31m---------------------------------------------------------------------------\u001b[0m",
      "\u001b[0;31mValueError\u001b[0m                                Traceback (most recent call last)",
      "\u001b[0;32m<ipython-input-36-ee5daad7fb35>\u001b[0m in \u001b[0;36m<module>\u001b[0;34m\u001b[0m\n\u001b[1;32m      3\u001b[0m \u001b[0;32mfor\u001b[0m \u001b[0mi\u001b[0m \u001b[0;32min\u001b[0m \u001b[0marr\u001b[0m\u001b[0;34m:\u001b[0m\u001b[0;34m\u001b[0m\u001b[0;34m\u001b[0m\u001b[0m\n\u001b[1;32m      4\u001b[0m     \u001b[0;32mif\u001b[0m \u001b[0mi\u001b[0m \u001b[0;34m>=\u001b[0m \u001b[0;36m3\u001b[0m\u001b[0;34m:\u001b[0m\u001b[0;34m\u001b[0m\u001b[0;34m\u001b[0m\u001b[0m\n\u001b[0;32m----> 5\u001b[0;31m         \u001b[0mnp\u001b[0m\u001b[0;34m.\u001b[0m\u001b[0mappend\u001b[0m\u001b[0;34m(\u001b[0m\u001b[0mnew_arr\u001b[0m\u001b[0;34m,\u001b[0m \u001b[0mi\u001b[0m\u001b[0;34m,\u001b[0m \u001b[0maxis\u001b[0m\u001b[0;34m=\u001b[0m\u001b[0;36m0\u001b[0m\u001b[0;34m)\u001b[0m\u001b[0;34m\u001b[0m\u001b[0;34m\u001b[0m\u001b[0m\n\u001b[0m\u001b[1;32m      6\u001b[0m \u001b[0mprint\u001b[0m\u001b[0;34m(\u001b[0m\u001b[0mnew_arr\u001b[0m\u001b[0;34m)\u001b[0m\u001b[0;34m\u001b[0m\u001b[0;34m\u001b[0m\u001b[0m\n",
      "\u001b[0;32m/anaconda3/lib/python3.7/site-packages/numpy/lib/function_base.py\u001b[0m in \u001b[0;36mappend\u001b[0;34m(arr, values, axis)\u001b[0m\n\u001b[1;32m   4692\u001b[0m         \u001b[0mvalues\u001b[0m \u001b[0;34m=\u001b[0m \u001b[0mravel\u001b[0m\u001b[0;34m(\u001b[0m\u001b[0mvalues\u001b[0m\u001b[0;34m)\u001b[0m\u001b[0;34m\u001b[0m\u001b[0;34m\u001b[0m\u001b[0m\n\u001b[1;32m   4693\u001b[0m         \u001b[0maxis\u001b[0m \u001b[0;34m=\u001b[0m \u001b[0marr\u001b[0m\u001b[0;34m.\u001b[0m\u001b[0mndim\u001b[0m\u001b[0;34m-\u001b[0m\u001b[0;36m1\u001b[0m\u001b[0;34m\u001b[0m\u001b[0;34m\u001b[0m\u001b[0m\n\u001b[0;32m-> 4694\u001b[0;31m     \u001b[0;32mreturn\u001b[0m \u001b[0mconcatenate\u001b[0m\u001b[0;34m(\u001b[0m\u001b[0;34m(\u001b[0m\u001b[0marr\u001b[0m\u001b[0;34m,\u001b[0m \u001b[0mvalues\u001b[0m\u001b[0;34m)\u001b[0m\u001b[0;34m,\u001b[0m \u001b[0maxis\u001b[0m\u001b[0;34m=\u001b[0m\u001b[0maxis\u001b[0m\u001b[0;34m)\u001b[0m\u001b[0;34m\u001b[0m\u001b[0;34m\u001b[0m\u001b[0m\n\u001b[0m\u001b[1;32m   4695\u001b[0m \u001b[0;34m\u001b[0m\u001b[0m\n\u001b[1;32m   4696\u001b[0m \u001b[0;34m\u001b[0m\u001b[0m\n",
      "\u001b[0;31mValueError\u001b[0m: all the input arrays must have same number of dimensions"
     ]
    }
   ],
   "source": [
    "arr = np.array([1, 2, 5, 8, 2, 8, 9, 2])\n",
    "new_arr = np.empty(shape=[0,])\n",
    "for i in arr:\n",
    "    if i >= 3:\n",
    "        np.append(new_arr, i, axis=0)\n",
    "print(new_arr)"
   ]
  },
  {
   "cell_type": "code",
   "execution_count": 44,
   "metadata": {},
   "outputs": [
    {
     "name": "stdout",
     "output_type": "stream",
     "text": [
      "[[1 2 4]\n",
      " [7 1 1]]\n"
     ]
    }
   ],
   "source": [
    "arr2 = np.array([[1, 2, 4],\n",
    "          [-1, 3, 1],\n",
    "          [-5, 3, 2],\n",
    "          [7, 1, 1]])\n",
    "number = 1\n",
    "def numpy4(arr, number):\n",
    "    new_arr = []\n",
    "    for row in arr:\n",
    "        if row[0] >= 1:\n",
    "            new_arr.append(row)\n",
    "    return np.array(new_arr)\n",
    "    \n",
    "    '''\n",
    "    Taking in a 2d array, return the rows where the first column is greater than or equal to the number\n",
    "\n",
    "    eg. np.array([[1, 2, 4], \n",
    "                [-1, 3, 1],\n",
    "                [-5, 3, 2], \n",
    "                [7, 1, 1]])\n",
    "        number = 1\n",
    "\n",
    "        returns: np.array([[1, 2, 4],  \n",
    "                        [7, 1, 1]])\n",
    "    '''\n",
    "print(numpy4(arr2, number))"
   ]
  },
  {
   "cell_type": "code",
   "execution_count": 111,
   "metadata": {},
   "outputs": [
    {
     "name": "stdout",
     "output_type": "stream",
     "text": [
      "                Name  Age    Sport\n",
      "0      morgan abbitt   50   Soccer\n",
      "1  ryan kasichainula   40   Biking\n",
      "2         anne barry   72  Running\n"
     ]
    }
   ],
   "source": [
    "df = pd.DataFrame(columns=['Name', 'Age', 'Sport'], \n",
    "                data=[['Morgan Abbitt', 50, 'Soccer'], \n",
    "                    ['Ryan Kasichainula', 40, 'Biking'],\n",
    "                    ['Anne Barry', 72, 'Running']])\n",
    "#df[\"Name\"] = df[\"Name\"].apply(lambda x: x.lower())\n",
    "def pandas1(df):\n",
    "    for i in df:\n",
    "        df[\"Name\"] = df[\"Name\"].apply(lambda x: x.lower())\n",
    "    return df\n",
    "    '''\n",
    "    Given a pandas dataframe with a specific column named 'Name', use the  `.apply()` method to turn\n",
    "    the contents of that column to a lower case string. You can assume that everything in that column is a\n",
    "    string. \n",
    "\n",
    "    After the column has been changed return the dataframe\n",
    "    '''\n",
    "print(pandas1(df))"
   ]
  },
  {
   "cell_type": "code",
   "execution_count": 77,
   "metadata": {},
   "outputs": [
    {
     "name": "stdout",
     "output_type": "stream",
     "text": [
      "                Name  Age    Sport\n",
      "0      Morgan Abbitt   50   Soccer\n",
      "1  Ryan Kasichainula   40   Biking\n",
      "2         Anne Barry   72  Running\n"
     ]
    }
   ],
   "source": [
    "print(df)"
   ]
  },
  {
   "cell_type": "code",
   "execution_count": 80,
   "metadata": {},
   "outputs": [
    {
     "name": "stdout",
     "output_type": "stream",
     "text": [
      "                Name  Age    Sport\n",
      "0      morgan abbitt   50   Soccer\n",
      "1  ryan kasichainula   40   Biking\n",
      "2         anne barry   72  Running\n"
     ]
    }
   ],
   "source": [
    "#df[\"Name\"] = df[\"Name\"].str.lower()\n",
    "df[\"Name\"] = df[\"Name\"].apply(lambda x: x.lower())\n",
    "#data['College'].apply(lambda x: x.upper()).head(10) \n",
    "#data['Name'] = data['Name'].str.upper()\n",
    "print(df)"
   ]
  },
  {
   "cell_type": "code",
   "execution_count": 55,
   "metadata": {},
   "outputs": [
    {
     "name": "stdout",
     "output_type": "stream",
     "text": [
      "                Name  Age    Sport\n",
      "0      morgan abbitt   50   Soccer\n",
      "1  ryan kasichainula   40   Biking\n",
      "2         anne barry   72  Running\n"
     ]
    }
   ],
   "source": [
    "print(df)"
   ]
  },
  {
   "cell_type": "code",
   "execution_count": 62,
   "metadata": {},
   "outputs": [
    {
     "name": "stdout",
     "output_type": "stream",
     "text": [
      "54.0\n"
     ]
    }
   ],
   "source": [
    "df = pd.DataFrame(columns=['Name', 'Age', 'Sport'], \n",
    "                data=[['Morgan Abbitt', 50, 'Soccer'], \n",
    "                    ['Ryan Kasichainula', 40, 'Biking'],\n",
    "                    ['Anne Barry', 72, 'Running']])\n",
    "def pandas2(df, col):\n",
    "    av_cl = df[col].mean()\n",
    "    return av_cl\n",
    "    '''\n",
    "    Given a dataframe and a column, find the average of that column. Assumed the column is numeric.\n",
    "    '''\n",
    "print(pandas2(df, col = \"Age\"))"
   ]
  },
  {
   "cell_type": "code",
   "execution_count": null,
   "metadata": {},
   "outputs": [],
   "source": [
    "s1 = Series(randn(5),index=[1,2,4,5,6])\n",
    "\n",
    "In [4]: s2 = Series(randn(5),index=[1,2,4,5,6])\n",
    "\n",
    "In [8]: DataFrame(dict(s1 = s1, s2 = s2)).reset_index()"
   ]
  },
  {
   "cell_type": "code",
   "execution_count": 146,
   "metadata": {},
   "outputs": [
    {
     "data": {
      "text/html": [
       "<div>\n",
       "<style scoped>\n",
       "    .dataframe tbody tr th:only-of-type {\n",
       "        vertical-align: middle;\n",
       "    }\n",
       "\n",
       "    .dataframe tbody tr th {\n",
       "        vertical-align: top;\n",
       "    }\n",
       "\n",
       "    .dataframe thead th {\n",
       "        text-align: right;\n",
       "    }\n",
       "</style>\n",
       "<table border=\"1\" class=\"dataframe\">\n",
       "  <thead>\n",
       "    <tr style=\"text-align: right;\">\n",
       "      <th></th>\n",
       "      <th>col1</th>\n",
       "      <th>col2</th>\n",
       "    </tr>\n",
       "  </thead>\n",
       "  <tbody>\n",
       "    <tr>\n",
       "      <th>0</th>\n",
       "      <td>a</td>\n",
       "      <td>0</td>\n",
       "    </tr>\n",
       "    <tr>\n",
       "      <th>1</th>\n",
       "      <td>b</td>\n",
       "      <td>1</td>\n",
       "    </tr>\n",
       "    <tr>\n",
       "      <th>2</th>\n",
       "      <td>c</td>\n",
       "      <td>2</td>\n",
       "    </tr>\n",
       "    <tr>\n",
       "      <th>3</th>\n",
       "      <td>e</td>\n",
       "      <td>3</td>\n",
       "    </tr>\n",
       "    <tr>\n",
       "      <th>4</th>\n",
       "      <td>d</td>\n",
       "      <td>4</td>\n",
       "    </tr>\n",
       "    <tr>\n",
       "      <th>5</th>\n",
       "      <td>f</td>\n",
       "      <td>5</td>\n",
       "    </tr>\n",
       "    <tr>\n",
       "      <th>6</th>\n",
       "      <td>g</td>\n",
       "      <td>6</td>\n",
       "    </tr>\n",
       "    <tr>\n",
       "      <th>7</th>\n",
       "      <td>h</td>\n",
       "      <td>7</td>\n",
       "    </tr>\n",
       "    <tr>\n",
       "      <th>8</th>\n",
       "      <td>i</td>\n",
       "      <td>8</td>\n",
       "    </tr>\n",
       "    <tr>\n",
       "      <th>9</th>\n",
       "      <td>j</td>\n",
       "      <td>9</td>\n",
       "    </tr>\n",
       "  </tbody>\n",
       "</table>\n",
       "</div>"
      ],
      "text/plain": [
       "  col1  col2\n",
       "0    a     0\n",
       "1    b     1\n",
       "2    c     2\n",
       "3    e     3\n",
       "4    d     4\n",
       "5    f     5\n",
       "6    g     6\n",
       "7    h     7\n",
       "8    i     8\n",
       "9    j     9"
      ]
     },
     "execution_count": 146,
     "metadata": {},
     "output_type": "execute_result"
    }
   ],
   "source": [
    "ser1 = pd.Series(list('abcedfghij'))\n",
    "ser2 = pd.Series(np.arange(10))\n",
    "df = pd.DataFrame(dict(col1=ser1, col2 = ser2))\n",
    "df"
   ]
  },
  {
   "cell_type": "code",
   "execution_count": 64,
   "metadata": {},
   "outputs": [],
   "source": [
    "ser1 = pd.Series(list('abcedfghij'))\n",
    "ser2 = pd.Series(np.arange(10))\n",
    "df = DataFrame(dict(s1=s1, s2 = s2))\n",
    "def pandas3(ser1, ser2):\n",
    "    df = DataFrame(dict(s1=s1, s2 = s2))\n",
    "    '''\n",
    "    Given two series of the same length, combine them into a dataframe\n",
    "\n",
    "    eg. ser1 = pd.Series(list('abcedfghij'))\n",
    "        ser2 = pd.Series(np.arange(10))\n",
    "\n",
    "    returns   col1  col2\n",
    "            0    a     0\n",
    "            1    b     1\n",
    "            2    c     2\n",
    "            3    e     3\n",
    "            4    d     4\n",
    "            ...\n",
    "    '''\n",
    "    pass\n"
   ]
  },
  {
   "cell_type": "code",
   "execution_count": 66,
   "metadata": {},
   "outputs": [
    {
     "name": "stdout",
     "output_type": "stream",
     "text": [
      "[1, 2, 3]\n"
     ]
    }
   ],
   "source": [
    "def divisors(number):\n",
    "    lst = []\n",
    "    for i in range(1,number):\n",
    "        if number % i == 0:\n",
    "            lst.append(i)\n",
    "    return lst\n",
    "            \n",
    "    '''\n",
    "    Given a number return all of the divisors of that number. \n",
    "    '''\n",
    "print(divisors(6))"
   ]
  },
  {
   "cell_type": "code",
   "execution_count": 115,
   "metadata": {},
   "outputs": [
    {
     "name": "stdout",
     "output_type": "stream",
     "text": [
      "    * \r\n",
      "   * * \r\n",
      "  * * * \r\n",
      " * * * * \r\n",
      "* * * * * \r\n"
     ]
    }
   ],
   "source": [
    "\n",
    "# Python 3.x code to demonstrate star pattern\n",
    " \n",
    "# Function to demonstrate printing pattern triangle\n",
    "def triangle(n):\n",
    "     \n",
    "    # number of spaces\n",
    "    k = n - 1\n",
    " \n",
    "    # outer loop to handle number of rows\n",
    "    for i in range(0, n):\n",
    "     \n",
    "        # inner loop to handle number spaces\n",
    "        # values changing acc. to requirement\n",
    "        for j in range(0, k):\n",
    "            print(end=\" \")\n",
    "     \n",
    "        # decrementing k after each loop\n",
    "        k = k - 1\n",
    "     \n",
    "        # inner loop to handle number of columns\n",
    "        # values changing acc. to outer loop\n",
    "        for j in range(0, i+1):\n",
    "         \n",
    "            # printing stars\n",
    "            print(\"* \", end=\"\")\n",
    "     \n",
    "        # ending line after each row\n",
    "        print(\"\\r\")\n",
    " \n",
    "# Driver Code\n",
    "n = 5\n",
    "triangle(n)"
   ]
  },
  {
   "cell_type": "code",
   "execution_count": null,
   "metadata": {},
   "outputs": [],
   "source": [
    "num_rows = int(input(\"Enter the number of rows\"))\n",
    "k = 0\n",
    "for i in range(1, num_rows + 1):\n",
    "for j in range (1, (num_rows - i) + 1):\n",
    "print(end = \" \")\n",
    "while k != (2 * i - 1):\n",
    "print(\"*\", end = \"\")\n",
    "k = k + 1\n",
    "k = 0\n",
    "print()\n",
    "k = 2\n",
    "m = 1\n",
    "for i in range(1, num_rows):\n",
    "for j in range (1, k):\n",
    "print(end = \" \")\n",
    "k = k + 1\n",
    "while m <= (2 * (num_rows - i) - 1):\n",
    "print(\"*\", end = \"\")\n",
    "m = m + 1\n",
    "m = 1\n",
    "print()"
   ]
  },
  {
   "cell_type": "code",
   "execution_count": 123,
   "metadata": {},
   "outputs": [],
   "source": [
    "num_rows = 3\n",
    "k = 0\n",
    "for i in range(1, num+1):\n",
    "    for j in range(1, (num - i) +1):\n",
    "        while k != (2 * i - 1):\n",
    "            print(\"*\", end = \"\")"
   ]
  },
  {
   "cell_type": "code",
   "execution_count": 116,
   "metadata": {},
   "outputs": [
    {
     "ename": "IndentationError",
     "evalue": "expected an indented block (<ipython-input-116-f74fb0f9c07f>, line 4)",
     "output_type": "error",
     "traceback": [
      "\u001b[0;36m  File \u001b[0;32m\"<ipython-input-116-f74fb0f9c07f>\"\u001b[0;36m, line \u001b[0;32m4\u001b[0m\n\u001b[0;31m    for j in range (1, (num_rows - i) + 1):\u001b[0m\n\u001b[0m      ^\u001b[0m\n\u001b[0;31mIndentationError\u001b[0m\u001b[0;31m:\u001b[0m expected an indented block\n"
     ]
    }
   ],
   "source": [
    "num_rows = 3\n",
    "k = 0\n",
    "for i in range(1, num+1):\n",
    "    for j in range(1, num - i) +1):\n",
    "        while k != (2 * i - 1):\n",
    "            print(\"*\", end = \"\")\n",
    "for i in range(1, num + 1):\n",
    "for j in range (1, (num_rows - i) + 1):\n",
    "print(end = \" \")\n",
    "while k != (2 * i - 1):\n",
    "print(\"*\", end = \"\")\n",
    "k = k + 1\n",
    "k = 0\n",
    "print()\n",
    "k = 2\n",
    "m = 1\n",
    "for i in range(1, num_rows):\n",
    "for j in range (1, k):\n",
    "print(end = \" \")\n",
    "k = k + 1\n",
    "while m <= (2 * (num_rows - i) - 1):\n",
    "print(\"*\", end = \"\")\n",
    "m = m + 1\n",
    "m = 1\n",
    "print()"
   ]
  },
  {
   "cell_type": "code",
   "execution_count": 94,
   "metadata": {},
   "outputs": [
    {
     "name": "stdout",
     "output_type": "stream",
     "text": [
      "**\n",
      "***\n",
      "****\n",
      "None\n"
     ]
    }
   ],
   "source": [
    "num = 3\n",
    "def print_stars(num):\n",
    "    for i in range(1, num+1):\n",
    "        print(\"*\"*(i+2))\n",
    "    '''\n",
    "    Given a number, num, print stars in the following sequence\n",
    "    eg. num=3\n",
    "    print: \n",
    "      *\n",
    "     ***\n",
    "    *****\n",
    "\n",
    "    '''\n",
    "print(print_stars(3))"
   ]
  },
  {
   "cell_type": "markdown",
   "metadata": {},
   "source": [
    "\n",
    "#If you want to work on some SQL problems complete the first three problems in https://sqlzoo.net/wiki/SELECT_basics and \n",
    "# then move to the quiz https://sqlzoo.net/wiki/SELECT_Quiz\n"
   ]
  },
  {
   "cell_type": "code",
   "execution_count": 129,
   "metadata": {},
   "outputs": [
    {
     "data": {
      "text/plain": [
       "a    5\n",
       "b    6\n",
       "c    7\n",
       "dtype: int64"
      ]
     },
     "execution_count": 129,
     "metadata": {},
     "output_type": "execute_result"
    }
   ],
   "source": [
    "\n",
    "idx = pd.Index([5, 6, 7 ])\n",
    "idx.to_series(index=['a', 'b', 'c'])"
   ]
  },
  {
   "cell_type": "code",
   "execution_count": 133,
   "metadata": {},
   "outputs": [
    {
     "data": {
      "text/plain": [
       "[5, 6, 7]"
      ]
     },
     "execution_count": 133,
     "metadata": {},
     "output_type": "execute_result"
    }
   ],
   "source": [
    "lst = list(range(5,8,1))\n",
    "lst"
   ]
  },
  {
   "cell_type": "code",
   "execution_count": 139,
   "metadata": {},
   "outputs": [
    {
     "data": {
      "text/plain": [
       "a    5\n",
       "b    6\n",
       "c    7\n",
       "dtype: int64"
      ]
     },
     "execution_count": 139,
     "metadata": {},
     "output_type": "execute_result"
    }
   ],
   "source": [
    "start = 5\n",
    "length = 3\n",
    "index = index=['a', 'b', 'c']\n",
    "#lst = list(range(start, start+length, 1))\n",
    "idx = pd.Index(list(range(start, start+length, 1)))\n",
    "idx.to_series(index)"
   ]
  },
  {
   "cell_type": "code",
   "execution_count": null,
   "metadata": {},
   "outputs": [],
   "source": [
    "start = 5\n",
    "start, length: int, int\n",
    "    index: list\n",
    "        Index of length \"length\"\n"
   ]
  }
 ],
 "metadata": {
  "kernelspec": {
   "display_name": "Python 3",
   "language": "python",
   "name": "python3"
  },
  "language_info": {
   "codemirror_mode": {
    "name": "ipython",
    "version": 3
   },
   "file_extension": ".py",
   "mimetype": "text/x-python",
   "name": "python",
   "nbconvert_exporter": "python",
   "pygments_lexer": "ipython3",
   "version": "3.7.3"
  }
 },
 "nbformat": 4,
 "nbformat_minor": 2
}
